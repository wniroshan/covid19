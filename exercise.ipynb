{
 "cells": [
  {
   "cell_type": "code",
   "execution_count": 1,
   "metadata": {
    "collapsed": true,
    "pycharm": {
     "is_executing": false
    }
   },
   "outputs": [],
   "source": [
    "import pandas as pd\n",
    "import data\n",
    "from db import Database"
   ]
  },
  {
   "cell_type": "code",
   "execution_count": 2,
   "outputs": [
    {
     "name": "stdout",
     "text": [
      "<class 'pandas.core.frame.DataFrame'>\nRangeIndex: 258 entries, 0 to 257\nData columns (total 77 columns):\n #   Column          Non-Null Count  Dtype  \n---  ------          --------------  -----  \n 0   Province/State  80 non-null     object \n 1   Country/Region  258 non-null    object \n 2   Lat             258 non-null    float64\n 3   Long            258 non-null    float64\n 4   1/22/20         258 non-null    int64  \n 5   1/23/20         258 non-null    int64  \n 6   1/24/20         258 non-null    int64  \n 7   1/25/20         258 non-null    int64  \n 8   1/26/20         258 non-null    int64  \n 9   1/27/20         258 non-null    int64  \n 10  1/28/20         258 non-null    int64  \n 11  1/29/20         258 non-null    int64  \n 12  1/30/20         258 non-null    int64  \n 13  1/31/20         258 non-null    int64  \n 14  2/1/20          258 non-null    int64  \n 15  2/2/20          258 non-null    int64  \n 16  2/3/20          258 non-null    int64  \n 17  2/4/20          258 non-null    int64  \n 18  2/5/20          258 non-null    int64  \n 19  2/6/20          258 non-null    int64  \n 20  2/7/20          258 non-null    int64  \n 21  2/8/20          258 non-null    int64  \n 22  2/9/20          258 non-null    int64  \n 23  2/10/20         258 non-null    int64  \n 24  2/11/20         258 non-null    int64  \n 25  2/12/20         258 non-null    int64  \n 26  2/13/20         258 non-null    int64  \n 27  2/14/20         258 non-null    int64  \n 28  2/15/20         258 non-null    int64  \n 29  2/16/20         258 non-null    int64  \n 30  2/17/20         258 non-null    int64  \n 31  2/18/20         258 non-null    int64  \n 32  2/19/20         258 non-null    int64  \n 33  2/20/20         258 non-null    int64  \n 34  2/21/20         258 non-null    int64  \n 35  2/22/20         258 non-null    int64  \n 36  2/23/20         258 non-null    int64  \n 37  2/24/20         258 non-null    int64  \n 38  2/25/20         258 non-null    int64  \n 39  2/26/20         258 non-null    int64  \n 40  2/27/20         258 non-null    int64  \n 41  2/28/20         258 non-null    int64  \n 42  2/29/20         258 non-null    int64  \n 43  3/1/20          258 non-null    int64  \n 44  3/2/20          258 non-null    int64  \n 45  3/3/20          258 non-null    int64  \n 46  3/4/20          258 non-null    int64  \n 47  3/5/20          258 non-null    int64  \n 48  3/6/20          258 non-null    int64  \n 49  3/7/20          258 non-null    int64  \n 50  3/8/20          258 non-null    int64  \n 51  3/9/20          258 non-null    int64  \n 52  3/10/20         258 non-null    int64  \n 53  3/11/20         258 non-null    int64  \n 54  3/12/20         258 non-null    int64  \n 55  3/13/20         258 non-null    int64  \n 56  3/14/20         258 non-null    int64  \n 57  3/15/20         258 non-null    int64  \n 58  3/16/20         258 non-null    int64  \n 59  3/17/20         258 non-null    int64  \n 60  3/18/20         258 non-null    int64  \n 61  3/19/20         258 non-null    int64  \n 62  3/20/20         258 non-null    int64  \n 63  3/21/20         258 non-null    int64  \n 64  3/22/20         258 non-null    int64  \n 65  3/23/20         258 non-null    int64  \n 66  3/24/20         258 non-null    int64  \n 67  3/25/20         258 non-null    int64  \n 68  3/26/20         258 non-null    int64  \n 69  3/27/20         258 non-null    int64  \n 70  3/28/20         258 non-null    int64  \n 71  3/29/20         258 non-null    int64  \n 72  3/30/20         258 non-null    int64  \n 73  3/31/20         258 non-null    int64  \n 74  4/1/20          258 non-null    int64  \n 75  4/2/20          258 non-null    int64  \n 76  4/3/20          258 non-null    int64  \ndtypes: float64(2), int64(73), object(2)\nmemory usage: 155.3+ KB\n"
     ],
     "output_type": "stream"
    }
   ],
   "source": [
    "# 1. Python: Download a timeseries of daily deaths per country\n",
    "url = \"https://raw.githubusercontent.com/CSSEGISandData/COVID-19/master/csse_covid_19_data/csse_covid_19_time_series/time_series_covid19_deaths_global.csv\"\n",
    "covid_deaths_df = pd.read_csv(url)\n",
    "covid_deaths_df.info()\n"
   ],
   "metadata": {
    "collapsed": false,
    "pycharm": {
     "name": "#%%\n",
     "is_executing": false
    }
   }
  },
  {
   "cell_type": "code",
   "execution_count": 3,
   "outputs": [
    {
     "name": "stdout",
     "text": [
      "<class 'pandas.core.frame.DataFrame'>\nRangeIndex: 13213 entries, 0 to 13212\nData columns (total 3 columns):\n #   Column   Non-Null Count  Dtype         \n---  ------   --------------  -----         \n 0   country  13213 non-null  object        \n 1   date     13213 non-null  datetime64[ns]\n 2   deaths   13213 non-null  int64         \ndtypes: datetime64[ns](1), int64(1), object(1)\nmemory usage: 309.8+ KB\n"
     ],
     "output_type": "stream"
    },
    {
     "data": {
      "text/plain": "       country       date  deaths\n0  Afghanistan 2020-01-22       0\n1      Albania 2020-01-22       0\n2      Algeria 2020-01-22       0\n3      Andorra 2020-01-22       0\n4       Angola 2020-01-22       0",
      "text/html": "<div>\n<style scoped>\n    .dataframe tbody tr th:only-of-type {\n        vertical-align: middle;\n    }\n\n    .dataframe tbody tr th {\n        vertical-align: top;\n    }\n\n    .dataframe thead th {\n        text-align: right;\n    }\n</style>\n<table border=\"1\" class=\"dataframe\">\n  <thead>\n    <tr style=\"text-align: right;\">\n      <th></th>\n      <th>country</th>\n      <th>date</th>\n      <th>deaths</th>\n    </tr>\n  </thead>\n  <tbody>\n    <tr>\n      <th>0</th>\n      <td>Afghanistan</td>\n      <td>2020-01-22</td>\n      <td>0</td>\n    </tr>\n    <tr>\n      <th>1</th>\n      <td>Albania</td>\n      <td>2020-01-22</td>\n      <td>0</td>\n    </tr>\n    <tr>\n      <th>2</th>\n      <td>Algeria</td>\n      <td>2020-01-22</td>\n      <td>0</td>\n    </tr>\n    <tr>\n      <th>3</th>\n      <td>Andorra</td>\n      <td>2020-01-22</td>\n      <td>0</td>\n    </tr>\n    <tr>\n      <th>4</th>\n      <td>Angola</td>\n      <td>2020-01-22</td>\n      <td>0</td>\n    </tr>\n  </tbody>\n</table>\n</div>"
     },
     "metadata": {},
     "output_type": "execute_result",
     "execution_count": 3
    }
   ],
   "source": [
    "# 2. Python: Convert the table so that each country and each day is a separate row \n",
    "df = data.get_total_deaths_per_country_and_day(covid_deaths_df)\n",
    "df.info()\n",
    "df.head()"
   ],
   "metadata": {
    "collapsed": false,
    "pycharm": {
     "name": "#%%\n",
     "is_executing": false
    }
   }
  },
  {
   "cell_type": "code",
   "execution_count": 4,
   "outputs": [
    {
     "name": "stdout",
     "text": [
      "Total rows in the table: 13213\nNewly added rows in the table: 13213\n"
     ],
     "output_type": "stream"
    }
   ],
   "source": [
    "# 3.  Python: Provide code to upload the table from step 3 (assuming 2) into an SQL table named deaths_total\n",
    "\n",
    "db_name = 'Covid19.db'\n",
    "total_deaths_table = 'deaths_total'\n",
    "db = Database(db_name)\n",
    "total_rows, new_rows = db.add_new_death_data(df, total_deaths_table)\n",
    "print(\"Total rows in the table: \"+str(total_rows))\n",
    "print(\"Newly added rows in the table: \"+ str(new_rows))\n"
   ],
   "metadata": {
    "collapsed": false,
    "pycharm": {
     "name": "#%%\n",
     "is_executing": false
    }
   }
  },
  {
   "cell_type": "code",
   "execution_count": 4,
   "outputs": [],
   "source": [
    "# 4.  Python: From the data in step 2, calculate the daily change in deaths for each country\n",
    "\n",
    "\n",
    "\n",
    "\n",
    "\n"
   ],
   "metadata": {
    "collapsed": false,
    "pycharm": {
     "name": "#%%\n",
     "is_executing": false
    }
   }
  }
 ],
 "metadata": {
  "kernelspec": {
   "display_name": "Python 3",
   "language": "python",
   "name": "python3"
  },
  "language_info": {
   "codemirror_mode": {
    "name": "ipython",
    "version": 2
   },
   "file_extension": ".py",
   "mimetype": "text/x-python",
   "name": "python",
   "nbconvert_exporter": "python",
   "pygments_lexer": "ipython2",
   "version": "2.7.6"
  },
  "pycharm": {
   "stem_cell": {
    "cell_type": "raw",
    "source": [],
    "metadata": {
     "collapsed": false
    }
   }
  }
 },
 "nbformat": 4,
 "nbformat_minor": 0
}
