{
 "cells": [
  {
   "cell_type": "code",
   "execution_count": 44,
   "metadata": {
    "collapsed": true,
    "pycharm": {
     "is_executing": false
    }
   },
   "outputs": [],
   "source": [
    "import pandas as pd\n",
    "from datahandler import DataHandler\n",
    "from db import Database"
   ]
  },
  {
   "cell_type": "code",
   "execution_count": 45,
   "outputs": [
    {
     "name": "stdout",
     "text": [
      "<class 'pandas.core.frame.DataFrame'>\nRangeIndex: 259 entries, 0 to 258\nData columns (total 78 columns):\n #   Column          Non-Null Count  Dtype  \n---  ------          --------------  -----  \n 0   Province/State  81 non-null     object \n 1   Country/Region  259 non-null    object \n 2   Lat             259 non-null    float64\n 3   Long            259 non-null    float64\n 4   1/22/20         259 non-null    int64  \n 5   1/23/20         259 non-null    int64  \n 6   1/24/20         259 non-null    int64  \n 7   1/25/20         259 non-null    int64  \n 8   1/26/20         259 non-null    int64  \n 9   1/27/20         259 non-null    int64  \n 10  1/28/20         259 non-null    int64  \n 11  1/29/20         259 non-null    int64  \n 12  1/30/20         259 non-null    int64  \n 13  1/31/20         259 non-null    int64  \n 14  2/1/20          259 non-null    int64  \n 15  2/2/20          259 non-null    int64  \n 16  2/3/20          259 non-null    int64  \n 17  2/4/20          259 non-null    int64  \n 18  2/5/20          259 non-null    int64  \n 19  2/6/20          259 non-null    int64  \n 20  2/7/20          259 non-null    int64  \n 21  2/8/20          259 non-null    int64  \n 22  2/9/20          259 non-null    int64  \n 23  2/10/20         259 non-null    int64  \n 24  2/11/20         259 non-null    int64  \n 25  2/12/20         259 non-null    int64  \n 26  2/13/20         259 non-null    int64  \n 27  2/14/20         259 non-null    int64  \n 28  2/15/20         259 non-null    int64  \n 29  2/16/20         259 non-null    int64  \n 30  2/17/20         259 non-null    int64  \n 31  2/18/20         259 non-null    int64  \n 32  2/19/20         259 non-null    int64  \n 33  2/20/20         259 non-null    int64  \n 34  2/21/20         259 non-null    int64  \n 35  2/22/20         259 non-null    int64  \n 36  2/23/20         259 non-null    int64  \n 37  2/24/20         259 non-null    int64  \n 38  2/25/20         259 non-null    int64  \n 39  2/26/20         259 non-null    int64  \n 40  2/27/20         259 non-null    int64  \n 41  2/28/20         259 non-null    int64  \n 42  2/29/20         259 non-null    int64  \n 43  3/1/20          259 non-null    int64  \n 44  3/2/20          259 non-null    int64  \n 45  3/3/20          259 non-null    int64  \n 46  3/4/20          259 non-null    int64  \n 47  3/5/20          259 non-null    int64  \n 48  3/6/20          259 non-null    int64  \n 49  3/7/20          259 non-null    int64  \n 50  3/8/20          259 non-null    int64  \n 51  3/9/20          259 non-null    int64  \n 52  3/10/20         259 non-null    int64  \n 53  3/11/20         259 non-null    int64  \n 54  3/12/20         259 non-null    int64  \n 55  3/13/20         259 non-null    int64  \n 56  3/14/20         259 non-null    int64  \n 57  3/15/20         259 non-null    int64  \n 58  3/16/20         259 non-null    int64  \n 59  3/17/20         259 non-null    int64  \n 60  3/18/20         259 non-null    int64  \n 61  3/19/20         259 non-null    int64  \n 62  3/20/20         259 non-null    int64  \n 63  3/21/20         259 non-null    int64  \n 64  3/22/20         259 non-null    int64  \n 65  3/23/20         259 non-null    int64  \n 66  3/24/20         259 non-null    int64  \n 67  3/25/20         259 non-null    int64  \n 68  3/26/20         259 non-null    int64  \n 69  3/27/20         259 non-null    int64  \n 70  3/28/20         259 non-null    int64  \n 71  3/29/20         259 non-null    int64  \n 72  3/30/20         259 non-null    int64  \n 73  3/31/20         259 non-null    int64  \n 74  4/1/20          259 non-null    int64  \n 75  4/2/20          259 non-null    int64  \n 76  4/3/20          259 non-null    int64  \n 77  4/4/20          259 non-null    int64  \ndtypes: float64(2), int64(74), object(2)\nmemory usage: 158.0+ KB\n"
     ],
     "output_type": "stream"
    }
   ],
   "source": [
    "# 1. Python: Download a timeseries of daily deaths per country\n",
    "url = \"https://raw.githubusercontent.com/CSSEGISandData/COVID-19/master/csse_covid_19_data/csse_covid_19_time_series/time_series_covid19_deaths_global.csv\"\n",
    "covid_deaths_df = pd.read_csv(url)\n",
    "covid_deaths_df.info()\n"
   ],
   "metadata": {
    "collapsed": false,
    "pycharm": {
     "name": "#%%\n",
     "is_executing": false
    }
   }
  },
  {
   "cell_type": "code",
   "execution_count": 46,
   "outputs": [
    {
     "name": "stdout",
     "text": [
      "<class 'pandas.core.frame.DataFrame'>\nRangeIndex: 13394 entries, 0 to 13393\nData columns (total 3 columns):\n #   Column   Non-Null Count  Dtype         \n---  ------   --------------  -----         \n 0   country  13394 non-null  object        \n 1   date     13394 non-null  datetime64[ns]\n 2   deaths   13394 non-null  int64         \ndtypes: datetime64[ns](1), int64(1), object(1)\nmemory usage: 314.0+ KB\n"
     ],
     "output_type": "stream"
    },
    {
     "data": {
      "text/plain": "       country       date  deaths\n0  Afghanistan 2020-01-22       0\n1      Albania 2020-01-22       0\n2      Algeria 2020-01-22       0\n3      Andorra 2020-01-22       0\n4       Angola 2020-01-22       0",
      "text/html": "<div>\n<style scoped>\n    .dataframe tbody tr th:only-of-type {\n        vertical-align: middle;\n    }\n\n    .dataframe tbody tr th {\n        vertical-align: top;\n    }\n\n    .dataframe thead th {\n        text-align: right;\n    }\n</style>\n<table border=\"1\" class=\"dataframe\">\n  <thead>\n    <tr style=\"text-align: right;\">\n      <th></th>\n      <th>country</th>\n      <th>date</th>\n      <th>deaths</th>\n    </tr>\n  </thead>\n  <tbody>\n    <tr>\n      <th>0</th>\n      <td>Afghanistan</td>\n      <td>2020-01-22</td>\n      <td>0</td>\n    </tr>\n    <tr>\n      <th>1</th>\n      <td>Albania</td>\n      <td>2020-01-22</td>\n      <td>0</td>\n    </tr>\n    <tr>\n      <th>2</th>\n      <td>Algeria</td>\n      <td>2020-01-22</td>\n      <td>0</td>\n    </tr>\n    <tr>\n      <th>3</th>\n      <td>Andorra</td>\n      <td>2020-01-22</td>\n      <td>0</td>\n    </tr>\n    <tr>\n      <th>4</th>\n      <td>Angola</td>\n      <td>2020-01-22</td>\n      <td>0</td>\n    </tr>\n  </tbody>\n</table>\n</div>"
     },
     "metadata": {},
     "output_type": "execute_result",
     "execution_count": 46
    }
   ],
   "source": [
    "# 2. Python: Convert the table so that each country and each day is a separate row \n",
    "data = DataHandler()\n",
    "# Implementation details are in datahandler.py\n",
    "total_deaths_df = data.get_total_deaths_per_country_and_day(covid_deaths_df)\n",
    "total_deaths_df.info()\n",
    "total_deaths_df.head()"
   ],
   "metadata": {
    "collapsed": false,
    "pycharm": {
     "name": "#%%\n",
     "is_executing": false
    }
   }
  },
  {
   "cell_type": "code",
   "execution_count": 47,
   "outputs": [
    {
     "name": "stdout",
     "text": [
      "Total rows in deaths_total table: 13394\nNewly added rows in deaths_total table: 0\n"
     ],
     "output_type": "stream"
    }
   ],
   "source": [
    "# 3.  Python: Provide code to upload the table from step 3 (assuming 2) into an SQL table named deaths_total\n",
    "\n",
    "db_name = 'Covid19.db'\n",
    "db = Database(db_name)\n",
    "\n",
    "# Implementation details are in db.py\n",
    "db.create_total_deaths_table() # Creates a table named deaths_total in database\n",
    "total_rows, new_rows = db.insert_to_deaths_total_table(total_deaths_df)\n",
    "print('Total rows in deaths_total table: '+str(total_rows))\n",
    "print('Newly added rows in deaths_total table: '+str(new_rows))"
   ],
   "metadata": {
    "collapsed": false,
    "pycharm": {
     "name": "#%%\n",
     "is_executing": false
    }
   }
  },
  {
   "cell_type": "code",
   "execution_count": 48,
   "outputs": [
    {
     "data": {
      "text/plain": "         country       date  deaths_change\n0    Afghanistan 2020-01-22            NaN\n181  Afghanistan 2020-01-23            0.0\n362  Afghanistan 2020-01-24            0.0\n543  Afghanistan 2020-01-25            0.0\n724  Afghanistan 2020-01-26            0.0",
      "text/html": "<div>\n<style scoped>\n    .dataframe tbody tr th:only-of-type {\n        vertical-align: middle;\n    }\n\n    .dataframe tbody tr th {\n        vertical-align: top;\n    }\n\n    .dataframe thead th {\n        text-align: right;\n    }\n</style>\n<table border=\"1\" class=\"dataframe\">\n  <thead>\n    <tr style=\"text-align: right;\">\n      <th></th>\n      <th>country</th>\n      <th>date</th>\n      <th>deaths_change</th>\n    </tr>\n  </thead>\n  <tbody>\n    <tr>\n      <th>0</th>\n      <td>Afghanistan</td>\n      <td>2020-01-22</td>\n      <td>NaN</td>\n    </tr>\n    <tr>\n      <th>181</th>\n      <td>Afghanistan</td>\n      <td>2020-01-23</td>\n      <td>0.0</td>\n    </tr>\n    <tr>\n      <th>362</th>\n      <td>Afghanistan</td>\n      <td>2020-01-24</td>\n      <td>0.0</td>\n    </tr>\n    <tr>\n      <th>543</th>\n      <td>Afghanistan</td>\n      <td>2020-01-25</td>\n      <td>0.0</td>\n    </tr>\n    <tr>\n      <th>724</th>\n      <td>Afghanistan</td>\n      <td>2020-01-26</td>\n      <td>0.0</td>\n    </tr>\n  </tbody>\n</table>\n</div>"
     },
     "metadata": {},
     "output_type": "execute_result",
     "execution_count": 48
    }
   ],
   "source": [
    "# 4.  Python: From the data in step 2, calculate the daily change in deaths for each country\n",
    "\n",
    "# Implementation details are in datahandler.py\n",
    "daily_change_df = data.get_daily_change_in_deaths(total_deaths_df)\n",
    "daily_change_df.head()"
   ],
   "metadata": {
    "collapsed": false,
    "pycharm": {
     "name": "#%%\n",
     "is_executing": false
    }
   }
  },
  {
   "cell_type": "code",
   "execution_count": 49,
   "outputs": [
    {
     "name": "stdout",
     "text": [
      "Total rows in deaths_change_table: 13394\nNewly added rows in deaths_change_table: 0\n"
     ],
     "output_type": "stream"
    }
   ],
   "source": [
    "# 5.  Python: Provide code to upload the table from step 4 into an SQL table named deaths_change_python\n",
    "\n",
    "db.create_deaths_change_python_table()\n",
    "total_rows, new_rows = db.insert_to_deaths_change_python_table(daily_change_df)\n",
    "print('Total rows in deaths_change_table: ' +str(total_rows))\n",
    "print('Newly added rows in deaths_change_table: '+str(new_rows))\n"
   ],
   "metadata": {
    "collapsed": false,
    "pycharm": {
     "name": "#%%\n",
     "is_executing": false
    }
   }
  },
  {
   "cell_type": "code",
   "execution_count": 50,
   "outputs": [
    {
     "name": "stdout",
     "text": [
      "[('deaths_total',), ('deaths_change_python',), ('deaths_change_sql',)]\n",
      "Both Python and SQL codes produce identical results\n"
     ],
     "output_type": "stream"
    },
    {
     "data": {
      "text/plain": "           country                 date  deaths_change\n0      Afghanistan  2020-01-22 00:00:00            NaN\n1      Afghanistan  2020-01-23 00:00:00            0.0\n2      Afghanistan  2020-01-24 00:00:00            0.0\n3      Afghanistan  2020-01-25 00:00:00            0.0\n4      Afghanistan  2020-01-26 00:00:00            0.0\n...            ...                  ...            ...\n13389     Zimbabwe  2020-03-31 00:00:00            0.0\n13390     Zimbabwe  2020-04-01 00:00:00            0.0\n13391     Zimbabwe  2020-04-02 00:00:00            0.0\n13392     Zimbabwe  2020-04-03 00:00:00            0.0\n13393     Zimbabwe  2020-04-04 00:00:00            0.0\n\n[13394 rows x 3 columns]",
      "text/html": "<div>\n<style scoped>\n    .dataframe tbody tr th:only-of-type {\n        vertical-align: middle;\n    }\n\n    .dataframe tbody tr th {\n        vertical-align: top;\n    }\n\n    .dataframe thead th {\n        text-align: right;\n    }\n</style>\n<table border=\"1\" class=\"dataframe\">\n  <thead>\n    <tr style=\"text-align: right;\">\n      <th></th>\n      <th>country</th>\n      <th>date</th>\n      <th>deaths_change</th>\n    </tr>\n  </thead>\n  <tbody>\n    <tr>\n      <th>0</th>\n      <td>Afghanistan</td>\n      <td>2020-01-22 00:00:00</td>\n      <td>NaN</td>\n    </tr>\n    <tr>\n      <th>1</th>\n      <td>Afghanistan</td>\n      <td>2020-01-23 00:00:00</td>\n      <td>0.0</td>\n    </tr>\n    <tr>\n      <th>2</th>\n      <td>Afghanistan</td>\n      <td>2020-01-24 00:00:00</td>\n      <td>0.0</td>\n    </tr>\n    <tr>\n      <th>3</th>\n      <td>Afghanistan</td>\n      <td>2020-01-25 00:00:00</td>\n      <td>0.0</td>\n    </tr>\n    <tr>\n      <th>4</th>\n      <td>Afghanistan</td>\n      <td>2020-01-26 00:00:00</td>\n      <td>0.0</td>\n    </tr>\n    <tr>\n      <th>...</th>\n      <td>...</td>\n      <td>...</td>\n      <td>...</td>\n    </tr>\n    <tr>\n      <th>13389</th>\n      <td>Zimbabwe</td>\n      <td>2020-03-31 00:00:00</td>\n      <td>0.0</td>\n    </tr>\n    <tr>\n      <th>13390</th>\n      <td>Zimbabwe</td>\n      <td>2020-04-01 00:00:00</td>\n      <td>0.0</td>\n    </tr>\n    <tr>\n      <th>13391</th>\n      <td>Zimbabwe</td>\n      <td>2020-04-02 00:00:00</td>\n      <td>0.0</td>\n    </tr>\n    <tr>\n      <th>13392</th>\n      <td>Zimbabwe</td>\n      <td>2020-04-03 00:00:00</td>\n      <td>0.0</td>\n    </tr>\n    <tr>\n      <th>13393</th>\n      <td>Zimbabwe</td>\n      <td>2020-04-04 00:00:00</td>\n      <td>0.0</td>\n    </tr>\n  </tbody>\n</table>\n<p>13394 rows × 3 columns</p>\n</div>"
     },
     "metadata": {},
     "output_type": "execute_result",
     "execution_count": 50
    }
   ],
   "source": [
    "# 6. SQL: Provide SQL code to calculate the daily change for each country using only the data from deaths_total and save it into an SQL table named deaths_change_sql\n",
    "\n",
    "db.execute_query(\"DROP TABLE IF EXISTS deaths_change_sql;\")\n",
    "\n",
    "deaths_change_sql = \"CREATE TABLE deaths_change_sql AS \\\n",
    "                        SELECT country, date, \\\n",
    "                        deaths - LAG(deaths) OVER (PARTITION BY country ORDER BY date) AS deaths_change \\\n",
    "                        FROM deaths_total;\"\n",
    "db.execute_query(deaths_change_sql)\n",
    "\n",
    "# Some verifications\n",
    "tables = db.execute_query(\"SELECT name FROM sqlite_master WHERE type ='table' AND name NOT LIKE 'sqlite_%';\")\n",
    "print(tables)\n",
    "\n",
    "with db.create_connection() as con:\n",
    "    result = pd.read_sql(\"SELECT * FROM deaths_change_sql\", con=con)\n",
    "\n",
    "# Do some structural only changes to daily_changes_df \n",
    "daily_change_df.sort_values(['country','date'], inplace = True)\n",
    "daily_change_df.reset_index(drop=True, inplace=True)\n",
    "daily_change_df['date'] = daily_change_df['date'].dt.strftime('%Y-%m-%d %H:%M:%S')\n",
    "if daily_change_df.equals(result):\n",
    "    print(\"Both Python and SQL codes produce identical results\")\n",
    "    \n",
    "result"
   ],
   "metadata": {
    "collapsed": false,
    "pycharm": {
     "name": "#%%\n",
     "is_executing": false
    }
   }
  }
 ],
 "metadata": {
  "kernelspec": {
   "display_name": "Python 3",
   "language": "python",
   "name": "python3"
  },
  "language_info": {
   "codemirror_mode": {
    "name": "ipython",
    "version": 2
   },
   "file_extension": ".py",
   "mimetype": "text/x-python",
   "name": "python",
   "nbconvert_exporter": "python",
   "pygments_lexer": "ipython2",
   "version": "2.7.6"
  },
  "pycharm": {
   "stem_cell": {
    "cell_type": "raw",
    "source": [],
    "metadata": {
     "collapsed": false
    }
   }
  }
 },
 "nbformat": 4,
 "nbformat_minor": 0
}
